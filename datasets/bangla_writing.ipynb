{
 "cells": [
  {
   "cell_type": "markdown",
   "metadata": {},
   "source": [
    "## Set the following params correctly\n",
    "* **data_path**  : Path to The **converted** folder \n",
    "* **save_path**  : Path to save the processed data\n",
    "* **split_test** : %of test data  "
   ]
  },
  {
   "cell_type": "code",
   "execution_count": null,
   "metadata": {},
   "outputs": [],
   "source": [
    "data_path=\"/media/ansary/DriveData/Work/bengalAI/datasets/__raw__/converted/\"\n",
    "save_path=\"/media/ansary/DriveData/Work/bengalAI/datasets/Recognition/\"\n",
    "split_test=20"
   ]
  },
  {
   "cell_type": "code",
   "execution_count": null,
   "metadata": {},
   "outputs": [],
   "source": [
    "import sys\n",
    "sys.path.append('../')\n",
    "#--------------------\n",
    "# imports\n",
    "#--------------------\n",
    "import os \n",
    "import json\n",
    "import cv2\n",
    "import numpy as np\n",
    "import pandas as pd \n",
    "import string\n",
    "import random\n",
    "from glob import glob\n",
    "from tqdm.auto import tqdm\n",
    "from coreLib.utils import stripPads,LOG_INFO,GraphemeParser,create_dir\n",
    "tqdm.pandas()\n",
    "random.seed(42)"
   ]
  },
  {
   "cell_type": "code",
   "execution_count": null,
   "metadata": {},
   "outputs": [],
   "source": [
    "#--------------------\n",
    "# GLOBALS\n",
    "#--------------------\n",
    "# symbols to avoid \n",
    "SYMBOLS=list(string.ascii_letters)\n",
    "SYMBOLS+=[str(i) for i in range(10)]\n",
    "GP=GraphemeParser()\n",
    "#--------------------------------images2words------------------------------------------------------------\n",
    "#--------------------\n",
    "# helper functions\n",
    "#--------------------\n",
    "\n",
    "def extract_word_images_and_labels(img_path):\n",
    "    '''\n",
    "        extracts word images and labels from a given image\n",
    "        args:\n",
    "            img_path : path of the image\n",
    "        returns:\n",
    "            (images,labels)\n",
    "            list of images and labels\n",
    "    '''\n",
    "    imgs=[]\n",
    "    labels=[]\n",
    "    # json_path\n",
    "    json_path=img_path.replace(\"jpg\",\"json\")\n",
    "    # read image\n",
    "    data=cv2.imread(img_path,0)\n",
    "    # label\n",
    "    label_json = json.load(open(json_path,'r'))\n",
    "    # get word idx\n",
    "    for idx in range(len(label_json['shapes'])):\n",
    "        # label\n",
    "        label=str(label_json['shapes'][idx]['label'])\n",
    "        # special charecter negation\n",
    "        if not any(substring in label for substring in SYMBOLS):\n",
    "            labels.append(label)\n",
    "            # crop bbox\n",
    "            xy=label_json['shapes'][idx]['points']\n",
    "            # crop points\n",
    "            x1 = int(np.round(xy[0][0]))\n",
    "            y1 = int(np.round(xy[0][1]))\n",
    "            x2 = int(np.round(xy[1][0]))\n",
    "            y2 = int(np.round(xy[1][1]))\n",
    "            # image\n",
    "            img=data[y1:y2,x1:x2]\n",
    "            imgs.append(img)\n",
    "    return imgs,labels"
   ]
  },
  {
   "cell_type": "code",
   "execution_count": null,
   "metadata": {},
   "outputs": [],
   "source": [
    "img_idens=[]\n",
    "img_labels=[]\n",
    "src=[]\n",
    "i=0\n",
    "main_path=create_dir(save_path,\"bw\")\n",
    "save_path=create_dir(main_path,\"images\")\n",
    "LOG_INFO(save_path)\n",
    "# get image paths\n",
    "img_paths=[img_path for img_path in glob(os.path.join(data_path,\"*.jpg\"))]\n",
    "# iterate\n",
    "for img_path in tqdm(img_paths):\n",
    "    # extract images and labels\n",
    "    imgs,labels=extract_word_images_and_labels(img_path)\n",
    "    if len(imgs)>0:\n",
    "        for img,label in zip(imgs,labels):\n",
    "            try:\n",
    "\n",
    "                # thresh\n",
    "                blur = cv2.GaussianBlur(img,(5,5),0)\n",
    "                _,img = cv2.threshold(blur,0,255,cv2.THRESH_BINARY+cv2.THRESH_OTSU)\n",
    "                img=stripPads(img,255)\n",
    "                img_save_path=os.path.join(save_path,f\"{i}.png\")\n",
    "                # save\n",
    "                cv2.imwrite(img_save_path,img)\n",
    "                # append\n",
    "                img_idens.append(f\"{i}.png\")\n",
    "                img_labels.append(label)\n",
    "                src.append(os.path.basename(img_path))\n",
    "                i=i+1\n",
    "\n",
    "            except Exception as e: \n",
    "                LOG_INFO(f\"error in creating image:{img_path} label:{label},error:{e}\",mcolor='red')\n"
   ]
  },
  {
   "cell_type": "code",
   "execution_count": null,
   "metadata": {},
   "outputs": [],
   "source": [
    "# dataframe\n",
    "df              =   pd.DataFrame({\"filename\":img_idens,\"word\":img_labels,\"src\":src})\n",
    "# graphemes\n",
    "df[\"graphemes\"] =   df.word.progress_apply(lambda x:GP.word2grapheme(x))\n",
    "df.dropna(inplace=True)\n",
    "\n",
    "# test train split\n",
    "srcs=list(df.src.unique())\n",
    "random.shuffle(srcs)\n",
    "eval_len=int(len(srcs)*split_test/100)\n",
    "eval_srcs=srcs[:eval_len]\n",
    "df[\"mode\"]=df.src.progress_apply(lambda x: \"test\" if x in eval_srcs else \"train\")\n",
    "\n",
    "\n",
    "\n",
    "df=df[[\"filename\",\"word\",\"graphemes\",\"mode\"]]\n",
    "df"
   ]
  },
  {
   "cell_type": "code",
   "execution_count": null,
   "metadata": {},
   "outputs": [],
   "source": [
    "df.to_csv(os.path.join(main_path,\"data.csv\"),index=False)"
   ]
  },
  {
   "cell_type": "code",
   "execution_count": null,
   "metadata": {},
   "outputs": [],
   "source": [
    "LOG_INFO(f\"IMPORTANT: PATH TO USE FOR tools/process.py:{main_path}\",\"red\")"
   ]
  },
  {
   "cell_type": "code",
   "execution_count": null,
   "metadata": {},
   "outputs": [],
   "source": []
  }
 ],
 "metadata": {
  "kernelspec": {
   "display_name": "bangla",
   "language": "python",
   "name": "bangla"
  },
  "language_info": {
   "codemirror_mode": {
    "name": "ipython",
    "version": 3
   },
   "file_extension": ".py",
   "mimetype": "text/x-python",
   "name": "python",
   "nbconvert_exporter": "python",
   "pygments_lexer": "ipython3",
   "version": "3.8.5"
  }
 },
 "nbformat": 4,
 "nbformat_minor": 4
}
