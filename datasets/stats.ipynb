{
 "cells": [
  {
   "cell_type": "markdown",
   "metadata": {},
   "source": [
    "## **The data_paths should all contain:** \n",
    "* images folder\n",
    "* targets folder\n",
    "* data.csv\n",
    "## idens are simple strings "
   ]
  },
  {
   "cell_type": "code",
   "execution_count": 5,
   "metadata": {},
   "outputs": [],
   "source": [
    "data_paths=[\n",
    "    \"/media/ansary/DriveData/Work/bengalAI/datasets/Recognition/processed/bh/train\",\n",
    "    \"/media/ansary/DriveData/Work/bengalAI/datasets/Recognition/processed/bh/test\",\n",
    "    \"/media/ansary/DriveData/Work/bengalAI/datasets/Recognition/processed/bs/train\",\n",
    "    \"/media/ansary/DriveData/Work/bengalAI/datasets/Recognition/processed/bs/test\",\n",
    "    \"/media/ansary/DriveData/Work/bengalAI/datasets/Recognition/processed/bw/train\",\n",
    "    \"/media/ansary/DriveData/Work/bengalAI/datasets/Recognition/processed/bw/test\"\n",
    "    ]\n",
    "\n",
    "idens=[ \"bh.train\",\n",
    "       \"bh.test\",\n",
    "       \"bs.train\",\n",
    "       \"bs.test\",\n",
    "       \"bw.train\",\n",
    "       \"bw.test\"]"
   ]
  },
  {
   "cell_type": "code",
   "execution_count": 7,
   "metadata": {},
   "outputs": [
    {
     "data": {
      "application/vnd.jupyter.widget-view+json": {
       "model_id": "fec82a4b1ee84097af1f56421b031b0f",
       "version_major": 2,
       "version_minor": 0
      },
      "text/plain": [
       "0it [00:00, ?it/s]"
      ]
     },
     "metadata": {},
     "output_type": "display_data"
    }
   ],
   "source": [
    "#----------------------\n",
    "# imports\n",
    "#----------------------\n",
    "import os\n",
    "import pandas as pd\n",
    "from glob import glob\n",
    "from tqdm.auto import tqdm\n",
    "from ast import literal_eval\n",
    "tqdm.pandas()\n",
    "#----------------------\n",
    "# error check\n",
    "#----------------------\n",
    "for data_path,iden in tqdm(zip(data_paths,idens)):\n",
    "    assert os.path.exists(os.path.join(data_path,\"images\")),f\"images folder missing:{iden}\"\n",
    "    assert os.path.exists(os.path.join(data_path,\"targets\")),f\"targets folder missing:{iden}\"\n",
    "    assert os.path.exists(os.path.join(data_path,\"data.csv\")),f\"data.csv file missing:{iden}\"\n",
    "    "
   ]
  },
  {
   "cell_type": "code",
   "execution_count": 8,
   "metadata": {},
   "outputs": [
    {
     "data": {
      "application/vnd.jupyter.widget-view+json": {
       "model_id": "5cc150434fb643d98d32bdf49c9c4a0b",
       "version_major": 2,
       "version_minor": 0
      },
      "text/plain": [
       "  0%|          | 0/6 [00:00<?, ?it/s]"
      ]
     },
     "metadata": {},
     "output_type": "display_data"
    },
    {
     "data": {
      "application/vnd.jupyter.widget-view+json": {
       "model_id": "833af850eb4d4a2a875f593e63e84c08",
       "version_major": 2,
       "version_minor": 0
      },
      "text/plain": [
       "  0%|          | 0/87278 [00:00<?, ?it/s]"
      ]
     },
     "metadata": {},
     "output_type": "display_data"
    },
    {
     "data": {
      "application/vnd.jupyter.widget-view+json": {
       "model_id": "df9509dd2970499f87a850f049105c44",
       "version_major": 2,
       "version_minor": 0
      },
      "text/plain": [
       "  0%|          | 0/17304 [00:00<?, ?it/s]"
      ]
     },
     "metadata": {},
     "output_type": "display_data"
    },
    {
     "data": {
      "application/vnd.jupyter.widget-view+json": {
       "model_id": "356f559f0ef34cd78fa87f86ff33858d",
       "version_major": 2,
       "version_minor": 0
      },
      "text/plain": [
       "  0%|          | 0/47834 [00:00<?, ?it/s]"
      ]
     },
     "metadata": {},
     "output_type": "display_data"
    },
    {
     "data": {
      "application/vnd.jupyter.widget-view+json": {
       "model_id": "2fc2646c04aa4a8784e043d443b9f43e",
       "version_major": 2,
       "version_minor": 0
      },
      "text/plain": [
       "  0%|          | 0/11865 [00:00<?, ?it/s]"
      ]
     },
     "metadata": {},
     "output_type": "display_data"
    },
    {
     "data": {
      "application/vnd.jupyter.widget-view+json": {
       "model_id": "126fe532250043428e712ce7b33072df",
       "version_major": 2,
       "version_minor": 0
      },
      "text/plain": [
       "  0%|          | 0/17063 [00:00<?, ?it/s]"
      ]
     },
     "metadata": {},
     "output_type": "display_data"
    },
    {
     "data": {
      "application/vnd.jupyter.widget-view+json": {
       "model_id": "c1e50031de464a5c93300ba2ec38cbf8",
       "version_major": 2,
       "version_minor": 0
      },
      "text/plain": [
       "  0%|          | 0/4125 [00:00<?, ?it/s]"
      ]
     },
     "metadata": {},
     "output_type": "display_data"
    },
    {
     "data": {
      "text/html": [
       "<div>\n",
       "<style scoped>\n",
       "    .dataframe tbody tr th:only-of-type {\n",
       "        vertical-align: middle;\n",
       "    }\n",
       "\n",
       "    .dataframe tbody tr th {\n",
       "        vertical-align: top;\n",
       "    }\n",
       "\n",
       "    .dataframe thead th {\n",
       "        text-align: right;\n",
       "    }\n",
       "</style>\n",
       "<table border=\"1\" class=\"dataframe\">\n",
       "  <thead>\n",
       "    <tr style=\"text-align: right;\">\n",
       "      <th></th>\n",
       "      <th>filename</th>\n",
       "      <th>labels</th>\n",
       "      <th>image_mask</th>\n",
       "      <th>target_mask</th>\n",
       "    </tr>\n",
       "  </thead>\n",
       "  <tbody>\n",
       "    <tr>\n",
       "      <th>0</th>\n",
       "      <td>0.png</td>\n",
       "      <td>[কৃ, ত্রি, ম]</td>\n",
       "      <td>142</td>\n",
       "      <td>113</td>\n",
       "    </tr>\n",
       "    <tr>\n",
       "      <th>1</th>\n",
       "      <td>1.png</td>\n",
       "      <td>[আ, র]</td>\n",
       "      <td>152</td>\n",
       "      <td>78</td>\n",
       "    </tr>\n",
       "    <tr>\n",
       "      <th>2</th>\n",
       "      <td>2.png</td>\n",
       "      <td>[জ, ন্য]</td>\n",
       "      <td>116</td>\n",
       "      <td>85</td>\n",
       "    </tr>\n",
       "    <tr>\n",
       "      <th>3</th>\n",
       "      <td>3.png</td>\n",
       "      <td>[স, ঠি, ক]</td>\n",
       "      <td>147</td>\n",
       "      <td>110</td>\n",
       "    </tr>\n",
       "    <tr>\n",
       "      <th>4</th>\n",
       "      <td>4.png</td>\n",
       "      <td>[বু, দ্ধি, ম, ত্তা, ভি, ত্তি, ক]</td>\n",
       "      <td>270</td>\n",
       "      <td>282</td>\n",
       "    </tr>\n",
       "    <tr>\n",
       "      <th>...</th>\n",
       "      <td>...</td>\n",
       "      <td>...</td>\n",
       "      <td>...</td>\n",
       "      <td>...</td>\n",
       "    </tr>\n",
       "    <tr>\n",
       "      <th>185464</th>\n",
       "      <td>4120.png</td>\n",
       "      <td>[*]</td>\n",
       "      <td>29</td>\n",
       "      <td>16</td>\n",
       "    </tr>\n",
       "    <tr>\n",
       "      <th>185465</th>\n",
       "      <td>4121.png</td>\n",
       "      <td>[নি, র্বা, চ, ন]</td>\n",
       "      <td>115</td>\n",
       "      <td>139</td>\n",
       "    </tr>\n",
       "    <tr>\n",
       "      <th>185466</th>\n",
       "      <td>4122.png</td>\n",
       "      <td>[ক, রা]</td>\n",
       "      <td>140</td>\n",
       "      <td>80</td>\n",
       "    </tr>\n",
       "    <tr>\n",
       "      <th>185467</th>\n",
       "      <td>4123.png</td>\n",
       "      <td>[হ, য়]</td>\n",
       "      <td>81</td>\n",
       "      <td>56</td>\n",
       "    </tr>\n",
       "    <tr>\n",
       "      <th>185468</th>\n",
       "      <td>4124.png</td>\n",
       "      <td>[।]</td>\n",
       "      <td>25</td>\n",
       "      <td>5</td>\n",
       "    </tr>\n",
       "  </tbody>\n",
       "</table>\n",
       "<p>185469 rows × 4 columns</p>\n",
       "</div>"
      ],
      "text/plain": [
       "        filename                            labels  image_mask  target_mask\n",
       "0          0.png                     [কৃ, ত্রি, ম]         142          113\n",
       "1          1.png                            [আ, র]         152           78\n",
       "2          2.png                          [জ, ন্য]         116           85\n",
       "3          3.png                        [স, ঠি, ক]         147          110\n",
       "4          4.png  [বু, দ্ধি, ম, ত্তা, ভি, ত্তি, ক]         270          282\n",
       "...          ...                               ...         ...          ...\n",
       "185464  4120.png                               [*]          29           16\n",
       "185465  4121.png                  [নি, র্বা, চ, ন]         115          139\n",
       "185466  4122.png                           [ক, রা]         140           80\n",
       "185467  4123.png                            [হ, য়]          81           56\n",
       "185468  4124.png                               [।]          25            5\n",
       "\n",
       "[185469 rows x 4 columns]"
      ]
     },
     "execution_count": 8,
     "metadata": {},
     "output_type": "execute_result"
    }
   ],
   "source": [
    "dfs=[]\n",
    "for data_path in tqdm(data_paths):\n",
    "    csv_path=os.path.join(data_path,\"data.csv\")\n",
    "    df=pd.read_csv(csv_path)\n",
    "    df.labels=df.labels.progress_apply(lambda x : literal_eval(x))\n",
    "    dfs.append(df)\n",
    "    \n",
    "df=pd.concat(dfs,ignore_index=True)\n",
    "df"
   ]
  },
  {
   "cell_type": "code",
   "execution_count": 9,
   "metadata": {},
   "outputs": [
    {
     "data": {
      "application/vnd.jupyter.widget-view+json": {
       "model_id": "fe31b8c41a2d4bc897d41c9d942f0efe",
       "version_major": 2,
       "version_minor": 0
      },
      "text/plain": [
       "  0%|          | 0/185469 [00:00<?, ?it/s]"
      ]
     },
     "metadata": {},
     "output_type": "display_data"
    },
    {
     "data": {
      "text/html": [
       "<div>\n",
       "<style scoped>\n",
       "    .dataframe tbody tr th:only-of-type {\n",
       "        vertical-align: middle;\n",
       "    }\n",
       "\n",
       "    .dataframe tbody tr th {\n",
       "        vertical-align: top;\n",
       "    }\n",
       "\n",
       "    .dataframe thead th {\n",
       "        text-align: right;\n",
       "    }\n",
       "</style>\n",
       "<table border=\"1\" class=\"dataframe\">\n",
       "  <thead>\n",
       "    <tr style=\"text-align: right;\">\n",
       "      <th></th>\n",
       "      <th>filename</th>\n",
       "      <th>labels</th>\n",
       "      <th>image_mask</th>\n",
       "      <th>target_mask</th>\n",
       "      <th>chars</th>\n",
       "    </tr>\n",
       "  </thead>\n",
       "  <tbody>\n",
       "    <tr>\n",
       "      <th>0</th>\n",
       "      <td>0.png</td>\n",
       "      <td>[কৃ, ত্রি, ম]</td>\n",
       "      <td>142</td>\n",
       "      <td>113</td>\n",
       "      <td>[ক, ৃ, ত, ্, র, ি, ম]</td>\n",
       "    </tr>\n",
       "    <tr>\n",
       "      <th>1</th>\n",
       "      <td>1.png</td>\n",
       "      <td>[আ, র]</td>\n",
       "      <td>152</td>\n",
       "      <td>78</td>\n",
       "      <td>[আ, র]</td>\n",
       "    </tr>\n",
       "    <tr>\n",
       "      <th>2</th>\n",
       "      <td>2.png</td>\n",
       "      <td>[জ, ন্য]</td>\n",
       "      <td>116</td>\n",
       "      <td>85</td>\n",
       "      <td>[জ, ন, ্, য]</td>\n",
       "    </tr>\n",
       "    <tr>\n",
       "      <th>3</th>\n",
       "      <td>3.png</td>\n",
       "      <td>[স, ঠি, ক]</td>\n",
       "      <td>147</td>\n",
       "      <td>110</td>\n",
       "      <td>[স, ঠ, ি, ক]</td>\n",
       "    </tr>\n",
       "    <tr>\n",
       "      <th>4</th>\n",
       "      <td>4.png</td>\n",
       "      <td>[বু, দ্ধি, ম, ত্তা, ভি, ত্তি, ক]</td>\n",
       "      <td>270</td>\n",
       "      <td>282</td>\n",
       "      <td>[ব, ু, দ, ্, ধ, ি, ম, ত, ্, ত, া, ভ, ি, ত, ্, ...</td>\n",
       "    </tr>\n",
       "    <tr>\n",
       "      <th>...</th>\n",
       "      <td>...</td>\n",
       "      <td>...</td>\n",
       "      <td>...</td>\n",
       "      <td>...</td>\n",
       "      <td>...</td>\n",
       "    </tr>\n",
       "    <tr>\n",
       "      <th>185464</th>\n",
       "      <td>4120.png</td>\n",
       "      <td>[*]</td>\n",
       "      <td>29</td>\n",
       "      <td>16</td>\n",
       "      <td>[*]</td>\n",
       "    </tr>\n",
       "    <tr>\n",
       "      <th>185465</th>\n",
       "      <td>4121.png</td>\n",
       "      <td>[নি, র্বা, চ, ন]</td>\n",
       "      <td>115</td>\n",
       "      <td>139</td>\n",
       "      <td>[ন, ি, র, ্, ব, া, চ, ন]</td>\n",
       "    </tr>\n",
       "    <tr>\n",
       "      <th>185466</th>\n",
       "      <td>4122.png</td>\n",
       "      <td>[ক, রা]</td>\n",
       "      <td>140</td>\n",
       "      <td>80</td>\n",
       "      <td>[ক, র, া]</td>\n",
       "    </tr>\n",
       "    <tr>\n",
       "      <th>185467</th>\n",
       "      <td>4123.png</td>\n",
       "      <td>[হ, য়]</td>\n",
       "      <td>81</td>\n",
       "      <td>56</td>\n",
       "      <td>[হ, য়]</td>\n",
       "    </tr>\n",
       "    <tr>\n",
       "      <th>185468</th>\n",
       "      <td>4124.png</td>\n",
       "      <td>[।]</td>\n",
       "      <td>25</td>\n",
       "      <td>5</td>\n",
       "      <td>[।]</td>\n",
       "    </tr>\n",
       "  </tbody>\n",
       "</table>\n",
       "<p>185469 rows × 5 columns</p>\n",
       "</div>"
      ],
      "text/plain": [
       "        filename                            labels  image_mask  target_mask  \\\n",
       "0          0.png                     [কৃ, ত্রি, ম]         142          113   \n",
       "1          1.png                            [আ, র]         152           78   \n",
       "2          2.png                          [জ, ন্য]         116           85   \n",
       "3          3.png                        [স, ঠি, ক]         147          110   \n",
       "4          4.png  [বু, দ্ধি, ম, ত্তা, ভি, ত্তি, ক]         270          282   \n",
       "...          ...                               ...         ...          ...   \n",
       "185464  4120.png                               [*]          29           16   \n",
       "185465  4121.png                  [নি, র্বা, চ, ন]         115          139   \n",
       "185466  4122.png                           [ক, রা]         140           80   \n",
       "185467  4123.png                            [হ, য়]          81           56   \n",
       "185468  4124.png                               [।]          25            5   \n",
       "\n",
       "                                                    chars  \n",
       "0                                   [ক, ৃ, ত, ্, র, ি, ম]  \n",
       "1                                                  [আ, র]  \n",
       "2                                            [জ, ন, ্, য]  \n",
       "3                                            [স, ঠ, ি, ক]  \n",
       "4       [ব, ু, দ, ্, ধ, ি, ম, ত, ্, ত, া, ভ, ি, ত, ্, ...  \n",
       "...                                                   ...  \n",
       "185464                                                [*]  \n",
       "185465                           [ন, ি, র, ্, ব, া, চ, ন]  \n",
       "185466                                          [ক, র, া]  \n",
       "185467                                             [হ, য়]  \n",
       "185468                                                [।]  \n",
       "\n",
       "[185469 rows x 5 columns]"
      ]
     },
     "execution_count": 9,
     "metadata": {},
     "output_type": "execute_result"
    }
   ],
   "source": [
    "df[\"chars\"]=df.labels.progress_apply(lambda x: [i for i in \"\".join(x)])\n",
    "df"
   ]
  },
  {
   "cell_type": "code",
   "execution_count": 10,
   "metadata": {},
   "outputs": [
    {
     "data": {
      "application/vnd.jupyter.widget-view+json": {
       "model_id": "21c1a21873914a99af93753607c20044",
       "version_major": 2,
       "version_minor": 0
      },
      "text/plain": [
       "  0%|          | 0/185469 [00:00<?, ?it/s]"
      ]
     },
     "metadata": {},
     "output_type": "display_data"
    },
    {
     "data": {
      "application/vnd.jupyter.widget-view+json": {
       "model_id": "0fd7aa9a49ed49548fa52f80f5f5e50f",
       "version_major": 2,
       "version_minor": 0
      },
      "text/plain": [
       "  0%|          | 0/185469 [00:00<?, ?it/s]"
      ]
     },
     "metadata": {},
     "output_type": "display_data"
    },
    {
     "data": {
      "text/html": [
       "<div>\n",
       "<style scoped>\n",
       "    .dataframe tbody tr th:only-of-type {\n",
       "        vertical-align: middle;\n",
       "    }\n",
       "\n",
       "    .dataframe tbody tr th {\n",
       "        vertical-align: top;\n",
       "    }\n",
       "\n",
       "    .dataframe thead th {\n",
       "        text-align: right;\n",
       "    }\n",
       "</style>\n",
       "<table border=\"1\" class=\"dataframe\">\n",
       "  <thead>\n",
       "    <tr style=\"text-align: right;\">\n",
       "      <th></th>\n",
       "      <th>filename</th>\n",
       "      <th>labels</th>\n",
       "      <th>image_mask</th>\n",
       "      <th>target_mask</th>\n",
       "      <th>chars</th>\n",
       "      <th>glabel_len</th>\n",
       "      <th>clabel_len</th>\n",
       "    </tr>\n",
       "  </thead>\n",
       "  <tbody>\n",
       "    <tr>\n",
       "      <th>0</th>\n",
       "      <td>0.png</td>\n",
       "      <td>[কৃ, ত্রি, ম]</td>\n",
       "      <td>142</td>\n",
       "      <td>113</td>\n",
       "      <td>[ক, ৃ, ত, ্, র, ি, ম]</td>\n",
       "      <td>3</td>\n",
       "      <td>7</td>\n",
       "    </tr>\n",
       "    <tr>\n",
       "      <th>1</th>\n",
       "      <td>1.png</td>\n",
       "      <td>[আ, র]</td>\n",
       "      <td>152</td>\n",
       "      <td>78</td>\n",
       "      <td>[আ, র]</td>\n",
       "      <td>2</td>\n",
       "      <td>2</td>\n",
       "    </tr>\n",
       "    <tr>\n",
       "      <th>2</th>\n",
       "      <td>2.png</td>\n",
       "      <td>[জ, ন্য]</td>\n",
       "      <td>116</td>\n",
       "      <td>85</td>\n",
       "      <td>[জ, ন, ্, য]</td>\n",
       "      <td>2</td>\n",
       "      <td>4</td>\n",
       "    </tr>\n",
       "    <tr>\n",
       "      <th>3</th>\n",
       "      <td>3.png</td>\n",
       "      <td>[স, ঠি, ক]</td>\n",
       "      <td>147</td>\n",
       "      <td>110</td>\n",
       "      <td>[স, ঠ, ি, ক]</td>\n",
       "      <td>3</td>\n",
       "      <td>4</td>\n",
       "    </tr>\n",
       "    <tr>\n",
       "      <th>4</th>\n",
       "      <td>4.png</td>\n",
       "      <td>[বু, দ্ধি, ম, ত্তা, ভি, ত্তি, ক]</td>\n",
       "      <td>270</td>\n",
       "      <td>282</td>\n",
       "      <td>[ব, ু, দ, ্, ধ, ি, ম, ত, ্, ত, া, ভ, ি, ত, ্, ...</td>\n",
       "      <td>7</td>\n",
       "      <td>18</td>\n",
       "    </tr>\n",
       "    <tr>\n",
       "      <th>...</th>\n",
       "      <td>...</td>\n",
       "      <td>...</td>\n",
       "      <td>...</td>\n",
       "      <td>...</td>\n",
       "      <td>...</td>\n",
       "      <td>...</td>\n",
       "      <td>...</td>\n",
       "    </tr>\n",
       "    <tr>\n",
       "      <th>185464</th>\n",
       "      <td>4120.png</td>\n",
       "      <td>[*]</td>\n",
       "      <td>29</td>\n",
       "      <td>16</td>\n",
       "      <td>[*]</td>\n",
       "      <td>1</td>\n",
       "      <td>1</td>\n",
       "    </tr>\n",
       "    <tr>\n",
       "      <th>185465</th>\n",
       "      <td>4121.png</td>\n",
       "      <td>[নি, র্বা, চ, ন]</td>\n",
       "      <td>115</td>\n",
       "      <td>139</td>\n",
       "      <td>[ন, ি, র, ্, ব, া, চ, ন]</td>\n",
       "      <td>4</td>\n",
       "      <td>8</td>\n",
       "    </tr>\n",
       "    <tr>\n",
       "      <th>185466</th>\n",
       "      <td>4122.png</td>\n",
       "      <td>[ক, রা]</td>\n",
       "      <td>140</td>\n",
       "      <td>80</td>\n",
       "      <td>[ক, র, া]</td>\n",
       "      <td>2</td>\n",
       "      <td>3</td>\n",
       "    </tr>\n",
       "    <tr>\n",
       "      <th>185467</th>\n",
       "      <td>4123.png</td>\n",
       "      <td>[হ, য়]</td>\n",
       "      <td>81</td>\n",
       "      <td>56</td>\n",
       "      <td>[হ, য়]</td>\n",
       "      <td>2</td>\n",
       "      <td>2</td>\n",
       "    </tr>\n",
       "    <tr>\n",
       "      <th>185468</th>\n",
       "      <td>4124.png</td>\n",
       "      <td>[।]</td>\n",
       "      <td>25</td>\n",
       "      <td>5</td>\n",
       "      <td>[।]</td>\n",
       "      <td>1</td>\n",
       "      <td>1</td>\n",
       "    </tr>\n",
       "  </tbody>\n",
       "</table>\n",
       "<p>185469 rows × 7 columns</p>\n",
       "</div>"
      ],
      "text/plain": [
       "        filename                            labels  image_mask  target_mask  \\\n",
       "0          0.png                     [কৃ, ত্রি, ম]         142          113   \n",
       "1          1.png                            [আ, র]         152           78   \n",
       "2          2.png                          [জ, ন্য]         116           85   \n",
       "3          3.png                        [স, ঠি, ক]         147          110   \n",
       "4          4.png  [বু, দ্ধি, ম, ত্তা, ভি, ত্তি, ক]         270          282   \n",
       "...          ...                               ...         ...          ...   \n",
       "185464  4120.png                               [*]          29           16   \n",
       "185465  4121.png                  [নি, র্বা, চ, ন]         115          139   \n",
       "185466  4122.png                           [ক, রা]         140           80   \n",
       "185467  4123.png                            [হ, য়]          81           56   \n",
       "185468  4124.png                               [।]          25            5   \n",
       "\n",
       "                                                    chars  glabel_len  \\\n",
       "0                                   [ক, ৃ, ত, ্, র, ি, ম]           3   \n",
       "1                                                  [আ, র]           2   \n",
       "2                                            [জ, ন, ্, য]           2   \n",
       "3                                            [স, ঠ, ি, ক]           3   \n",
       "4       [ব, ু, দ, ্, ধ, ি, ম, ত, ্, ত, া, ভ, ি, ত, ্, ...           7   \n",
       "...                                                   ...         ...   \n",
       "185464                                                [*]           1   \n",
       "185465                           [ন, ি, র, ্, ব, া, চ, ন]           4   \n",
       "185466                                          [ক, র, া]           2   \n",
       "185467                                             [হ, য়]           2   \n",
       "185468                                                [।]           1   \n",
       "\n",
       "        clabel_len  \n",
       "0                7  \n",
       "1                2  \n",
       "2                4  \n",
       "3                4  \n",
       "4               18  \n",
       "...            ...  \n",
       "185464           1  \n",
       "185465           8  \n",
       "185466           3  \n",
       "185467           2  \n",
       "185468           1  \n",
       "\n",
       "[185469 rows x 7 columns]"
      ]
     },
     "execution_count": 10,
     "metadata": {},
     "output_type": "execute_result"
    }
   ],
   "source": [
    "df[\"glabel_len\"]=df.labels.progress_apply(lambda x: len(x))\n",
    "df[\"clabel_len\"]=df.chars.progress_apply(lambda x: len(x))\n",
    "df"
   ]
  },
  {
   "cell_type": "code",
   "execution_count": 11,
   "metadata": {},
   "outputs": [
    {
     "name": "stdout",
     "output_type": "stream",
     "text": [
      "Max glabel len:36\n",
      "Max clabel len:62\n"
     ]
    }
   ],
   "source": [
    "print(f\"Max glabel len:{max(df.glabel_len.tolist())}\")\n",
    "print(f\"Max clabel len:{max(df.clabel_len.tolist())}\")\n"
   ]
  },
  {
   "cell_type": "code",
   "execution_count": null,
   "metadata": {},
   "outputs": [],
   "source": []
  }
 ],
 "metadata": {
  "kernelspec": {
   "display_name": "bangla",
   "language": "python",
   "name": "bangla"
  },
  "language_info": {
   "codemirror_mode": {
    "name": "ipython",
    "version": 3
   },
   "file_extension": ".py",
   "mimetype": "text/x-python",
   "name": "python",
   "nbconvert_exporter": "python",
   "pygments_lexer": "ipython3",
   "version": "3.8.5"
  }
 },
 "nbformat": 4,
 "nbformat_minor": 4
}
