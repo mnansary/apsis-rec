{
 "cells": [
  {
   "cell_type": "markdown",
   "id": "8111cf4f",
   "metadata": {},
   "source": [
    "# Store Dataset"
   ]
  },
  {
   "cell_type": "code",
   "execution_count": 1,
   "id": "95d98baa",
   "metadata": {},
   "outputs": [
    {
     "data": {
      "text/plain": [
       "['mlt2017train',\n",
       " 'icdar2015train',\n",
       " 'sorieTest',\n",
       " 'icdar2015test',\n",
       " 'sorieTrain',\n",
       " 'totaltext',\n",
       " 'wildreceipt',\n",
       " 'mlt2017eval',\n",
       " 'funsd',\n",
       " 'ctw']"
      ]
     },
     "execution_count": 1,
     "metadata": {},
     "output_type": "execute_result"
    }
   ],
   "source": [
    "import cv2\n",
    "import os\n",
    "from glob import glob\n",
    "from tqdm.auto import tqdm\n",
    "import shutil\n",
    "import matplotlib.pyplot as plt\n",
    "import numpy as np\n",
    "import math\n",
    "import os.path as osp\n",
    "\n",
    "#-------------------------------\n",
    "ds_dir   =\"/backup/Recognition/NAT/\"\n",
    "src_dir  =\"/backup/RAW/DET/DBNet/\"\n",
    "#-------------------------------\n",
    "def create_dir(base,ext):\n",
    "    '''\n",
    "        creates a directory extending base\n",
    "        args:\n",
    "            base    =   base path \n",
    "            ext     =   the folder to create\n",
    "    '''\n",
    "    _path=os.path.join(base,ext)\n",
    "    if not os.path.exists(_path):\n",
    "        os.mkdir(_path)\n",
    "    return _path\n",
    "#-------------------------------\n",
    "ds_dir           = create_dir(ds_dir,\"scene\")\n",
    "img_dir          = create_dir(ds_dir,\"images\")\n",
    "data_csv         = os.path.join(ds_dir,\"data.csv\")\n",
    "data_txt         = os.path.join(ds_dir,\"data.txt\") \n",
    "ds_idens = os.listdir(src_dir)\n",
    "ds_idens"
   ]
  },
  {
   "cell_type": "code",
   "execution_count": 2,
   "id": "13bd3b2a",
   "metadata": {},
   "outputs": [],
   "source": [
    "def get_mini_boxes(contour):\n",
    "    if not contour.size:\n",
    "        return None\n",
    "    bounding_box = cv2.minAreaRect(contour)\n",
    "    points = sorted(list(cv2.boxPoints(bounding_box)), key=lambda x: x[0])\n",
    "\n",
    "    index_1, index_2, index_3, index_4 = 0, 1, 2, 3\n",
    "    if points[1][1] > points[0][1]:\n",
    "        index_1 = 0\n",
    "        index_4 = 1\n",
    "    else:\n",
    "        index_1 = 1\n",
    "        index_4 = 0\n",
    "    if points[3][1] > points[2][1]:\n",
    "        index_2 = 2\n",
    "        index_3 = 3\n",
    "    else:\n",
    "        index_2 = 3\n",
    "        index_3 = 2\n",
    "\n",
    "    box = [points[index_1], points[index_2],\n",
    "        points[index_3], points[index_4]]\n",
    "    \n",
    "    return np.array(box,dtype=np.float32)\n",
    "\n",
    "def get_rotate_crop_image(img, points):\n",
    "        # Use Green's theory to judge clockwise or counterclockwise\n",
    "        # author: biyanhua\n",
    "        d = 0.0\n",
    "        for index in range(-1, 3):\n",
    "            d += -0.5 * (points[index + 1][1] + points[index][1]) * (\n",
    "                        points[index + 1][0] - points[index][0])\n",
    "        if d < 0: # counterclockwise\n",
    "            tmp = np.array(points)\n",
    "            points[1], points[3] = tmp[3], tmp[1]\n",
    "\n",
    "        img_crop_width = int(\n",
    "            max(\n",
    "                np.linalg.norm(points[0] - points[1]),\n",
    "                np.linalg.norm(points[2] - points[3])))\n",
    "        img_crop_height = int(\n",
    "            max(\n",
    "                np.linalg.norm(points[0] - points[3]),\n",
    "                np.linalg.norm(points[1] - points[2])))\n",
    "        pts_std = np.float32([[0, 0], [img_crop_width, 0],\n",
    "                            [img_crop_width, img_crop_height],\n",
    "                            [0, img_crop_height]])\n",
    "        M = cv2.getPerspectiveTransform(points, pts_std)\n",
    "        dst_img = cv2.warpPerspective(\n",
    "            img,\n",
    "            M, (img_crop_width, img_crop_height),\n",
    "            borderMode=cv2.BORDER_REPLICATE,\n",
    "            flags=cv2.INTER_CUBIC)\n",
    "        dst_img_height, dst_img_width = dst_img.shape[0:2]\n",
    "        if dst_img_height * 1.0 / dst_img_width >= 1.5:\n",
    "            dst_img = np.rot90(dst_img)\n",
    "        return dst_img\n",
    "\n",
    "def extract_data(img_path,ds_iden):\n",
    "    img=cv2.imread(img_path)\n",
    "    # gt_path\n",
    "    if ds_iden in ['sorieTest','sorieTrain']:\n",
    "        gt_path=img_path.replace(\"images\",\"gts\")\n",
    "        gt_path=gt_path.split(\".\")[0]+\".txt\"\n",
    "        \n",
    "    elif ds_iden in ['mlt2017train','mlt2017eval','icdar2015test']:\n",
    "        gt_path=img_path.replace(\"images\",\"gts\").replace(\"img\",\"gt_img\")\n",
    "        gt_path=gt_path.split(\".\")[0]+\".txt\"\n",
    "        \n",
    "    else: #ctw,funsd,icdar2015train,'totaltext',\"wildreceipt\"\n",
    "        gt_path=img_path.replace(\"images\",\"gts\")+\".txt\"\n",
    "\n",
    "    \n",
    "    # 8 lenght xy\n",
    "    len8s=[\"wildreceipt\",\n",
    "           'mlt2017train',\n",
    "           'mlt2017eval',\n",
    "           'icdar2015train',\n",
    "           'icdar2015test',\n",
    "           'sorieTrain',\n",
    "           'sorieTest',\n",
    "           'funsd']\n",
    "    \n",
    "    lines = []\n",
    "    # ann\n",
    "    reader = open(gt_path, 'r').readlines()\n",
    "    for line in reader:\n",
    "        item = {}\n",
    "        if ds_iden==\"ctw\":\n",
    "            parts=line.strip().split(\"####\")\n",
    "            label=parts[-1].replace(\",\",\"*\")\n",
    "            line=parts[0]+label\n",
    "    \n",
    "        \n",
    "        parts=line.strip().split(\",\")\n",
    "        # mlt2017\n",
    "        if \"mlt2017\" in ds_iden:\n",
    "            lang=parts[8]\n",
    "            if lang not in [\"Bangla\",\"Latin\"]:\n",
    "                continue\n",
    "            label=line.split(f\"{lang},\")[-1]\n",
    "        elif ds_iden in len8s:\n",
    "            label=\"\".join(parts[8:])    \n",
    "        else:\n",
    "            label = parts[-1]\n",
    "        \n",
    "        # wildreceipt\n",
    "        if ds_iden=='wildreceipt':\n",
    "            if len(label)==0:\n",
    "                continue\n",
    "        label=label.strip()\n",
    "        # conversion\n",
    "        if label==\"###\":\n",
    "            continue\n",
    "        \n",
    "        #--> poly\n",
    "        line = [i.strip('\\ufeff').strip('\\xef\\xbb\\xbf') for i in parts]\n",
    "        if  ds_iden in len8s:\n",
    "            poly = np.array(list(map(np.float32, line[:8]))).reshape((-1, 2))\n",
    "            crop=get_rotate_crop_image(img, poly)\n",
    "        else:\n",
    "            num_points = math.floor((len(line) - 1) / 2) * 2\n",
    "            poly = np.array(list(map(np.float32, line[:num_points]))).reshape((-1,1, 2))\n",
    "            if poly.shape[0] < 3:\n",
    "                continue\n",
    "            box=get_mini_boxes(poly)\n",
    "            if box is None:\n",
    "                continue\n",
    "            crop=get_rotate_crop_image(img, box)\n",
    "                \n",
    "        item['crop'] = crop\n",
    "        item['text'] = label\n",
    "    \n",
    "        lines.append(item)\n",
    "    \n",
    "    return lines\n",
    "    "
   ]
  },
  {
   "cell_type": "code",
   "execution_count": 3,
   "id": "4a7ca47c",
   "metadata": {},
   "outputs": [],
   "source": [
    "fiden=0\n",
    "filepaths=[]\n",
    "words=[]\n",
    "def process_dataset(ds_path,ds_iden):\n",
    "    global fiden\n",
    "    filepaths=[]\n",
    "    words=[]\n",
    "    dataset_path=os.path.join(ds_path,ds_iden)\n",
    "    img_paths=[img_path for img_path in tqdm(glob(os.path.join(dataset_path,\"images\",\"*.*\")))]\n",
    "    # extract anns \n",
    "    for img_path in tqdm(img_paths):\n",
    "        try:\n",
    "            lines=extract_data(img_path,ds_iden)\n",
    "            if len(lines)>0:\n",
    "                for line in lines:\n",
    "                    filepath= os.path.join(img_dir,f\"{fiden}.png\")\n",
    "                    img=line[\"crop\"]\n",
    "                    word=line[\"text\"]\n",
    "                    # save\n",
    "                    cv2.imwrite(filepath,img)\n",
    "                    filepaths.append(filepath)\n",
    "                    words.append(word)\n",
    "                    with open(data_txt,\"a+\") as f:\n",
    "                        f.write(f\"{fiden}.png,{word}\\n\")\n",
    "                    fiden+=1\n",
    "        except Exception as e:\n",
    "            print(\"-------------------------------\")\n",
    "            print(ds_iden,\":\",img_path)\n",
    "            print(e)\n",
    "            print(\"-------------------------------\")\n",
    "    return filepaths,words\n",
    "   \n",
    "\n"
   ]
  },
  {
   "cell_type": "code",
   "execution_count": 4,
   "id": "83a38400",
   "metadata": {},
   "outputs": [
    {
     "name": "stdout",
     "output_type": "stream",
     "text": [
      "mlt2017train\n"
     ]
    },
    {
     "data": {
      "application/vnd.jupyter.widget-view+json": {
       "model_id": "46ada9fead7d4c4a9b163c5d40a66758",
       "version_major": 2,
       "version_minor": 0
      },
      "text/plain": [
       "  0%|          | 0/7200 [00:00<?, ?it/s]"
      ]
     },
     "metadata": {},
     "output_type": "display_data"
    },
    {
     "data": {
      "application/vnd.jupyter.widget-view+json": {
       "model_id": "37fc9659c6634a04afd2c0664b9f766e",
       "version_major": 2,
       "version_minor": 0
      },
      "text/plain": [
       "  0%|          | 0/7200 [00:00<?, ?it/s]"
      ]
     },
     "metadata": {},
     "output_type": "display_data"
    },
    {
     "name": "stdout",
     "output_type": "stream",
     "text": [
      "-------------------------------\n",
      "mlt2017train : /backup/RAW/DET/DBNet/mlt2017train/images/img_1188.gif\n",
      "OpenCV(4.5.1) /tmp/pip-req-build-ms668fyv/opencv/modules/imgproc/src/imgwarp.cpp:3144: error: (-215:Assertion failed) _src.total() > 0 in function 'warpPerspective'\n",
      "\n",
      "-------------------------------\n",
      "-------------------------------\n",
      "mlt2017train : /backup/RAW/DET/DBNet/mlt2017train/images/img_401.gif\n",
      "OpenCV(4.5.1) /tmp/pip-req-build-ms668fyv/opencv/modules/imgproc/src/imgwarp.cpp:3144: error: (-215:Assertion failed) _src.total() > 0 in function 'warpPerspective'\n",
      "\n",
      "-------------------------------\n",
      "-------------------------------\n",
      "mlt2017train : /backup/RAW/DET/DBNet/mlt2017train/images/img_478.gif\n",
      "OpenCV(4.5.1) /tmp/pip-req-build-ms668fyv/opencv/modules/imgproc/src/imgwarp.cpp:3144: error: (-215:Assertion failed) _src.total() > 0 in function 'warpPerspective'\n",
      "\n",
      "-------------------------------\n",
      "-------------------------------\n",
      "mlt2017train : /backup/RAW/DET/DBNet/mlt2017train/images/img_1187.gif\n",
      "OpenCV(4.5.1) /tmp/pip-req-build-ms668fyv/opencv/modules/imgproc/src/imgwarp.cpp:3144: error: (-215:Assertion failed) _src.total() > 0 in function 'warpPerspective'\n",
      "\n",
      "-------------------------------\n",
      "icdar2015train\n"
     ]
    },
    {
     "data": {
      "application/vnd.jupyter.widget-view+json": {
       "model_id": "45bb78e98b15468d96689b4c56847bca",
       "version_major": 2,
       "version_minor": 0
      },
      "text/plain": [
       "  0%|          | 0/1000 [00:00<?, ?it/s]"
      ]
     },
     "metadata": {},
     "output_type": "display_data"
    },
    {
     "data": {
      "application/vnd.jupyter.widget-view+json": {
       "model_id": "56e7900208ed4322940b7116b44448cb",
       "version_major": 2,
       "version_minor": 0
      },
      "text/plain": [
       "  0%|          | 0/1000 [00:00<?, ?it/s]"
      ]
     },
     "metadata": {},
     "output_type": "display_data"
    },
    {
     "name": "stdout",
     "output_type": "stream",
     "text": [
      "sorieTest\n"
     ]
    },
    {
     "data": {
      "application/vnd.jupyter.widget-view+json": {
       "model_id": "1d26dbf2642e4ea884429c0519694dad",
       "version_major": 2,
       "version_minor": 0
      },
      "text/plain": [
       "  0%|          | 0/347 [00:00<?, ?it/s]"
      ]
     },
     "metadata": {},
     "output_type": "display_data"
    },
    {
     "data": {
      "application/vnd.jupyter.widget-view+json": {
       "model_id": "6814021fb40045f8b0cab348aa93fd23",
       "version_major": 2,
       "version_minor": 0
      },
      "text/plain": [
       "  0%|          | 0/347 [00:00<?, ?it/s]"
      ]
     },
     "metadata": {},
     "output_type": "display_data"
    },
    {
     "name": "stdout",
     "output_type": "stream",
     "text": [
      "-------------------------------\n",
      "sorieTest : /backup/RAW/DET/DBNet/sorieTest/images/X51006619503.jpg\n",
      "'utf-8' codec can't decode byte 0xa3 in position 407: invalid start byte\n",
      "-------------------------------\n",
      "-------------------------------\n",
      "sorieTest : /backup/RAW/DET/DBNet/sorieTest/images/X51006328967.jpg\n",
      "could not convert string to float: ''\n",
      "-------------------------------\n",
      "icdar2015test\n"
     ]
    },
    {
     "data": {
      "application/vnd.jupyter.widget-view+json": {
       "model_id": "f1516ffea77242e6aaf8b389e07ff028",
       "version_major": 2,
       "version_minor": 0
      },
      "text/plain": [
       "  0%|          | 0/500 [00:00<?, ?it/s]"
      ]
     },
     "metadata": {},
     "output_type": "display_data"
    },
    {
     "data": {
      "application/vnd.jupyter.widget-view+json": {
       "model_id": "b3332c348fc745cfb931d9aa64637123",
       "version_major": 2,
       "version_minor": 0
      },
      "text/plain": [
       "  0%|          | 0/500 [00:00<?, ?it/s]"
      ]
     },
     "metadata": {},
     "output_type": "display_data"
    },
    {
     "name": "stdout",
     "output_type": "stream",
     "text": [
      "sorieTrain\n"
     ]
    },
    {
     "data": {
      "application/vnd.jupyter.widget-view+json": {
       "model_id": "577fdc91fd1f4b49a77ba8294ea58cd2",
       "version_major": 2,
       "version_minor": 0
      },
      "text/plain": [
       "  0%|          | 0/712 [00:00<?, ?it/s]"
      ]
     },
     "metadata": {},
     "output_type": "display_data"
    },
    {
     "data": {
      "application/vnd.jupyter.widget-view+json": {
       "model_id": "95a700e9ec844caa956139e51f7fee7f",
       "version_major": 2,
       "version_minor": 0
      },
      "text/plain": [
       "  0%|          | 0/712 [00:00<?, ?it/s]"
      ]
     },
     "metadata": {},
     "output_type": "display_data"
    },
    {
     "name": "stdout",
     "output_type": "stream",
     "text": [
      "-------------------------------\n",
      "sorieTrain : /backup/RAW/DET/DBNet/sorieTrain/images/X51005605333(1).jpg\n",
      "[Errno 2] No such file or directory: '/backup/RAW/DET/DBNet/sorieTrain/gts/X51005605333(1).txt'\n",
      "-------------------------------\n",
      "-------------------------------\n",
      "sorieTrain : /backup/RAW/DET/DBNet/sorieTrain/images/X51005685355(2).jpg\n",
      "[Errno 2] No such file or directory: '/backup/RAW/DET/DBNet/sorieTrain/gts/X51005685355(2).txt'\n",
      "-------------------------------\n",
      "-------------------------------\n",
      "sorieTrain : /backup/RAW/DET/DBNet/sorieTrain/images/X51005433492(1).jpg\n",
      "[Errno 2] No such file or directory: '/backup/RAW/DET/DBNet/sorieTrain/gts/X51005433492(1).txt'\n",
      "-------------------------------\n",
      "-------------------------------\n",
      "sorieTrain : /backup/RAW/DET/DBNet/sorieTrain/images/X51007339647(1).jpg\n",
      "[Errno 2] No such file or directory: '/backup/RAW/DET/DBNet/sorieTrain/gts/X51007339647(1).txt'\n",
      "-------------------------------\n",
      "-------------------------------\n",
      "sorieTrain : /backup/RAW/DET/DBNet/sorieTrain/images/X51005442384(1).jpg\n",
      "[Errno 2] No such file or directory: '/backup/RAW/DET/DBNet/sorieTrain/gts/X51005442384(1).txt'\n",
      "-------------------------------\n",
      "-------------------------------\n",
      "sorieTrain : /backup/RAW/DET/DBNet/sorieTrain/images/X51005676539(1).jpg\n",
      "[Errno 2] No such file or directory: '/backup/RAW/DET/DBNet/sorieTrain/gts/X51005676539(1).txt'\n",
      "-------------------------------\n",
      "-------------------------------\n",
      "sorieTrain : /backup/RAW/DET/DBNet/sorieTrain/images/X51007339118(1).jpg\n",
      "[Errno 2] No such file or directory: '/backup/RAW/DET/DBNet/sorieTrain/gts/X51007339118(1).txt'\n",
      "-------------------------------\n",
      "-------------------------------\n",
      "sorieTrain : /backup/RAW/DET/DBNet/sorieTrain/images/X51005685357(2).jpg\n",
      "[Errno 2] No such file or directory: '/backup/RAW/DET/DBNet/sorieTrain/gts/X51005685357(2).txt'\n",
      "-------------------------------\n",
      "totaltext\n"
     ]
    },
    {
     "data": {
      "application/vnd.jupyter.widget-view+json": {
       "model_id": "c3704c8ae59c4c008298ed573207504d",
       "version_major": 2,
       "version_minor": 0
      },
      "text/plain": [
       "  0%|          | 0/1555 [00:00<?, ?it/s]"
      ]
     },
     "metadata": {},
     "output_type": "display_data"
    },
    {
     "data": {
      "application/vnd.jupyter.widget-view+json": {
       "model_id": "a1da1833a5664d3bad7b2567d35da551",
       "version_major": 2,
       "version_minor": 0
      },
      "text/plain": [
       "  0%|          | 0/1555 [00:00<?, ?it/s]"
      ]
     },
     "metadata": {},
     "output_type": "display_data"
    },
    {
     "name": "stdout",
     "output_type": "stream",
     "text": [
      "wildreceipt\n"
     ]
    },
    {
     "data": {
      "application/vnd.jupyter.widget-view+json": {
       "model_id": "5c6941edde28492392477f3c5b06abab",
       "version_major": 2,
       "version_minor": 0
      },
      "text/plain": [
       "  0%|          | 0/1739 [00:00<?, ?it/s]"
      ]
     },
     "metadata": {},
     "output_type": "display_data"
    },
    {
     "data": {
      "application/vnd.jupyter.widget-view+json": {
       "model_id": "8680942c75e94db4bd8b9c0d3440d9c5",
       "version_major": 2,
       "version_minor": 0
      },
      "text/plain": [
       "  0%|          | 0/1739 [00:00<?, ?it/s]"
      ]
     },
     "metadata": {},
     "output_type": "display_data"
    },
    {
     "name": "stdout",
     "output_type": "stream",
     "text": [
      "mlt2017eval\n"
     ]
    },
    {
     "data": {
      "application/vnd.jupyter.widget-view+json": {
       "model_id": "8b9c2307494b4f0ba54aeda1178361e0",
       "version_major": 2,
       "version_minor": 0
      },
      "text/plain": [
       "  0%|          | 0/1799 [00:00<?, ?it/s]"
      ]
     },
     "metadata": {},
     "output_type": "display_data"
    },
    {
     "data": {
      "application/vnd.jupyter.widget-view+json": {
       "model_id": "42c826149d884f9dbdfd6960afbdf166",
       "version_major": 2,
       "version_minor": 0
      },
      "text/plain": [
       "  0%|          | 0/1799 [00:00<?, ?it/s]"
      ]
     },
     "metadata": {},
     "output_type": "display_data"
    },
    {
     "name": "stdout",
     "output_type": "stream",
     "text": [
      "funsd\n"
     ]
    },
    {
     "data": {
      "application/vnd.jupyter.widget-view+json": {
       "model_id": "ea6897e4bc914e8aad0006fcd4b3927e",
       "version_major": 2,
       "version_minor": 0
      },
      "text/plain": [
       "  0%|          | 0/199 [00:00<?, ?it/s]"
      ]
     },
     "metadata": {},
     "output_type": "display_data"
    },
    {
     "data": {
      "application/vnd.jupyter.widget-view+json": {
       "model_id": "7fff862916f743b39c9e4bedc0bd9161",
       "version_major": 2,
       "version_minor": 0
      },
      "text/plain": [
       "  0%|          | 0/199 [00:00<?, ?it/s]"
      ]
     },
     "metadata": {},
     "output_type": "display_data"
    },
    {
     "name": "stdout",
     "output_type": "stream",
     "text": [
      "ctw\n"
     ]
    },
    {
     "data": {
      "application/vnd.jupyter.widget-view+json": {
       "model_id": "296960524f5d4be687ed359ec6252add",
       "version_major": 2,
       "version_minor": 0
      },
      "text/plain": [
       "  0%|          | 0/1500 [00:00<?, ?it/s]"
      ]
     },
     "metadata": {},
     "output_type": "display_data"
    },
    {
     "data": {
      "application/vnd.jupyter.widget-view+json": {
       "model_id": "ab1831e7c414459bac7c738f8d0b54c1",
       "version_major": 2,
       "version_minor": 0
      },
      "text/plain": [
       "  0%|          | 0/1500 [00:00<?, ?it/s]"
      ]
     },
     "metadata": {},
     "output_type": "display_data"
    },
    {
     "name": "stdout",
     "output_type": "stream",
     "text": [
      "-------------------------------\n",
      "ctw : /backup/RAW/DET/DBNet/ctw/images/0478.jpg\n",
      "could not convert string to float: 'NEW YORK'\n",
      "-------------------------------\n"
     ]
    }
   ],
   "source": [
    "for ds_iden in ds_idens:\n",
    "    print(ds_iden)\n",
    "    _filepaths,_words=process_dataset(src_dir,ds_iden)\n",
    "    filepaths+=_filepaths\n",
    "    words+=_words\n"
   ]
  },
  {
   "cell_type": "code",
   "execution_count": 5,
   "id": "21648d3b",
   "metadata": {},
   "outputs": [],
   "source": [
    "import pandas as pd\n",
    "df=pd.DataFrame({\"filepath\":filepaths,\"word\":words})\n",
    "df.to_csv(data_csv,index=False)"
   ]
  }
 ],
 "metadata": {
  "interpreter": {
   "hash": "83cb0fe33a0a67f9f877ffb776c4b7cce63e124f7ba47fe6878fb868bcc96314"
  },
  "kernelspec": {
   "display_name": "bangla",
   "language": "python",
   "name": "bangla"
  },
  "language_info": {
   "codemirror_mode": {
    "name": "ipython",
    "version": 3
   },
   "file_extension": ".py",
   "mimetype": "text/x-python",
   "name": "python",
   "nbconvert_exporter": "python",
   "pygments_lexer": "ipython3",
   "version": "3.8.5"
  }
 },
 "nbformat": 4,
 "nbformat_minor": 5
}
