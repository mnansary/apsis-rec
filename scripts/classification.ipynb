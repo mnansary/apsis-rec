{
 "cells": [
  {
   "cell_type": "code",
   "execution_count": 1,
   "id": "b4af7fc5",
   "metadata": {},
   "outputs": [],
   "source": [
    "ds_dir=\"/home/apsisdev/ansary/DATASETS/APSIS/Recognition/datasets/\"\n",
    "bn_datasets=[\"bangla_printed\",\"bangla_handwritten\",\"bs\",\"bw\",\"bh\",\"iit.bn\"]\n",
    "en_datasets=[\"en_hw\",\"english_printed\",\"icdar13\"]\n",
    "# imports\n",
    "import sys\n",
    "sys.path.append('../')\n",
    "\n",
    "import os \n",
    "from glob import glob\n",
    "from tqdm.auto import tqdm\n",
    "from coreLib.processing import processImages\n",
    "#processImages(df,img_dim,ptype=\"left\",factor=32)"
   ]
  },
  {
   "cell_type": "code",
   "execution_count": 5,
   "id": "d936bde3",
   "metadata": {},
   "outputs": [
    {
     "data": {
      "application/vnd.jupyter.widget-view+json": {
       "model_id": "8aa7693cbfd1450d983e77a81b9cdf7c",
       "version_major": 2,
       "version_minor": 0
      },
      "text/plain": [
       "  0%|          | 0/1095 [00:00<?, ?it/s]"
      ]
     },
     "metadata": {},
     "output_type": "display_data"
    },
    {
     "data": {
      "text/html": [
       "<div>\n",
       "<style scoped>\n",
       "    .dataframe tbody tr th:only-of-type {\n",
       "        vertical-align: middle;\n",
       "    }\n",
       "\n",
       "    .dataframe tbody tr th {\n",
       "        vertical-align: top;\n",
       "    }\n",
       "\n",
       "    .dataframe thead th {\n",
       "        text-align: right;\n",
       "    }\n",
       "</style>\n",
       "<table border=\"1\" class=\"dataframe\">\n",
       "  <thead>\n",
       "    <tr style=\"text-align: right;\">\n",
       "      <th></th>\n",
       "      <th>filepath</th>\n",
       "    </tr>\n",
       "  </thead>\n",
       "  <tbody>\n",
       "    <tr>\n",
       "      <th>0</th>\n",
       "      <td>/home/apsisdev/ansary/DATASETS/APSIS/Recogniti...</td>\n",
       "    </tr>\n",
       "    <tr>\n",
       "      <th>1</th>\n",
       "      <td>/home/apsisdev/ansary/DATASETS/APSIS/Recogniti...</td>\n",
       "    </tr>\n",
       "    <tr>\n",
       "      <th>2</th>\n",
       "      <td>/home/apsisdev/ansary/DATASETS/APSIS/Recogniti...</td>\n",
       "    </tr>\n",
       "    <tr>\n",
       "      <th>3</th>\n",
       "      <td>/home/apsisdev/ansary/DATASETS/APSIS/Recogniti...</td>\n",
       "    </tr>\n",
       "    <tr>\n",
       "      <th>4</th>\n",
       "      <td>/home/apsisdev/ansary/DATASETS/APSIS/Recogniti...</td>\n",
       "    </tr>\n",
       "    <tr>\n",
       "      <th>...</th>\n",
       "      <td>...</td>\n",
       "    </tr>\n",
       "    <tr>\n",
       "      <th>1090</th>\n",
       "      <td>/home/apsisdev/ansary/DATASETS/APSIS/Recogniti...</td>\n",
       "    </tr>\n",
       "    <tr>\n",
       "      <th>1091</th>\n",
       "      <td>/home/apsisdev/ansary/DATASETS/APSIS/Recogniti...</td>\n",
       "    </tr>\n",
       "    <tr>\n",
       "      <th>1092</th>\n",
       "      <td>/home/apsisdev/ansary/DATASETS/APSIS/Recogniti...</td>\n",
       "    </tr>\n",
       "    <tr>\n",
       "      <th>1093</th>\n",
       "      <td>/home/apsisdev/ansary/DATASETS/APSIS/Recogniti...</td>\n",
       "    </tr>\n",
       "    <tr>\n",
       "      <th>1094</th>\n",
       "      <td>/home/apsisdev/ansary/DATASETS/APSIS/Recogniti...</td>\n",
       "    </tr>\n",
       "  </tbody>\n",
       "</table>\n",
       "<p>1095 rows × 1 columns</p>\n",
       "</div>"
      ],
      "text/plain": [
       "                                               filepath\n",
       "0     /home/apsisdev/ansary/DATASETS/APSIS/Recogniti...\n",
       "1     /home/apsisdev/ansary/DATASETS/APSIS/Recogniti...\n",
       "2     /home/apsisdev/ansary/DATASETS/APSIS/Recogniti...\n",
       "3     /home/apsisdev/ansary/DATASETS/APSIS/Recogniti...\n",
       "4     /home/apsisdev/ansary/DATASETS/APSIS/Recogniti...\n",
       "...                                                 ...\n",
       "1090  /home/apsisdev/ansary/DATASETS/APSIS/Recogniti...\n",
       "1091  /home/apsisdev/ansary/DATASETS/APSIS/Recogniti...\n",
       "1092  /home/apsisdev/ansary/DATASETS/APSIS/Recogniti...\n",
       "1093  /home/apsisdev/ansary/DATASETS/APSIS/Recogniti...\n",
       "1094  /home/apsisdev/ansary/DATASETS/APSIS/Recogniti...\n",
       "\n",
       "[1095 rows x 1 columns]"
      ]
     },
     "execution_count": 5,
     "metadata": {},
     "output_type": "execute_result"
    }
   ],
   "source": [
    "# process icdar images\n",
    "icdar_images=[img_path for img_path in tqdm(glob(os.path.join(ds_dir,\"icdar13\",\"images\",\"*.*\")))]\n",
    "import pandas as pd\n",
    "tqdm.pandas()\n",
    "df=pd.DataFrame({\"filepath\":icdar_images})\n",
    "df"
   ]
  },
  {
   "cell_type": "code",
   "execution_count": 7,
   "id": "ffe6f177",
   "metadata": {},
   "outputs": [
    {
     "name": "stderr",
     "output_type": "stream",
     "text": [
      "100%|██████████| 1095/1095 [00:02<00:00, 545.60it/s]\n"
     ]
    },
    {
     "data": {
      "text/html": [
       "<div>\n",
       "<style scoped>\n",
       "    .dataframe tbody tr th:only-of-type {\n",
       "        vertical-align: middle;\n",
       "    }\n",
       "\n",
       "    .dataframe tbody tr th {\n",
       "        vertical-align: top;\n",
       "    }\n",
       "\n",
       "    .dataframe thead th {\n",
       "        text-align: right;\n",
       "    }\n",
       "</style>\n",
       "<table border=\"1\" class=\"dataframe\">\n",
       "  <thead>\n",
       "    <tr style=\"text-align: right;\">\n",
       "      <th></th>\n",
       "      <th>filepath</th>\n",
       "      <th>mask</th>\n",
       "    </tr>\n",
       "  </thead>\n",
       "  <tbody>\n",
       "    <tr>\n",
       "      <th>0</th>\n",
       "      <td>/home/apsisdev/ansary/DATASETS/APSIS/Recogniti...</td>\n",
       "      <td>[1, 1, 1, 1, 1, 0, 0, 0, 0, 0, 0, 0, 0, 0, 0, ...</td>\n",
       "    </tr>\n",
       "    <tr>\n",
       "      <th>1</th>\n",
       "      <td>/home/apsisdev/ansary/DATASETS/APSIS/Recogniti...</td>\n",
       "      <td>[1, 1, 0, 0, 0, 0, 0, 0, 0, 0, 0, 0, 0, 0, 0, ...</td>\n",
       "    </tr>\n",
       "    <tr>\n",
       "      <th>2</th>\n",
       "      <td>/home/apsisdev/ansary/DATASETS/APSIS/Recogniti...</td>\n",
       "      <td>[1, 1, 1, 1, 1, 1, 1, 1, 1, 1, 1, 1, 1, 0, 0, ...</td>\n",
       "    </tr>\n",
       "    <tr>\n",
       "      <th>3</th>\n",
       "      <td>/home/apsisdev/ansary/DATASETS/APSIS/Recogniti...</td>\n",
       "      <td>[1, 1, 1, 1, 1, 0, 0, 0, 0, 0, 0, 0, 0, 0, 0, ...</td>\n",
       "    </tr>\n",
       "    <tr>\n",
       "      <th>4</th>\n",
       "      <td>/home/apsisdev/ansary/DATASETS/APSIS/Recogniti...</td>\n",
       "      <td>[1, 1, 1, 1, 1, 1, 1, 1, 0, 0, 0, 0, 0, 0, 0, ...</td>\n",
       "    </tr>\n",
       "    <tr>\n",
       "      <th>...</th>\n",
       "      <td>...</td>\n",
       "      <td>...</td>\n",
       "    </tr>\n",
       "    <tr>\n",
       "      <th>1090</th>\n",
       "      <td>/home/apsisdev/ansary/DATASETS/APSIS/Recogniti...</td>\n",
       "      <td>[1, 1, 1, 1, 1, 0, 0, 0, 0, 0, 0, 0, 0, 0, 0, ...</td>\n",
       "    </tr>\n",
       "    <tr>\n",
       "      <th>1091</th>\n",
       "      <td>/home/apsisdev/ansary/DATASETS/APSIS/Recogniti...</td>\n",
       "      <td>[1, 1, 1, 1, 1, 1, 0, 0, 0, 0, 0, 0, 0, 0, 0, ...</td>\n",
       "    </tr>\n",
       "    <tr>\n",
       "      <th>1092</th>\n",
       "      <td>/home/apsisdev/ansary/DATASETS/APSIS/Recogniti...</td>\n",
       "      <td>[1, 1, 1, 1, 0, 0, 0, 0, 0, 0, 0, 0, 0, 0, 0, ...</td>\n",
       "    </tr>\n",
       "    <tr>\n",
       "      <th>1093</th>\n",
       "      <td>/home/apsisdev/ansary/DATASETS/APSIS/Recogniti...</td>\n",
       "      <td>[1, 1, 1, 1, 1, 1, 1, 1, 1, 1, 0, 0, 0, 0, 0, ...</td>\n",
       "    </tr>\n",
       "    <tr>\n",
       "      <th>1094</th>\n",
       "      <td>/home/apsisdev/ansary/DATASETS/APSIS/Recogniti...</td>\n",
       "      <td>[1, 1, 1, 1, 1, 1, 1, 1, 1, 1, 0, 0, 0, 0, 0, ...</td>\n",
       "    </tr>\n",
       "  </tbody>\n",
       "</table>\n",
       "<p>1095 rows × 2 columns</p>\n",
       "</div>"
      ],
      "text/plain": [
       "                                               filepath  \\\n",
       "0     /home/apsisdev/ansary/DATASETS/APSIS/Recogniti...   \n",
       "1     /home/apsisdev/ansary/DATASETS/APSIS/Recogniti...   \n",
       "2     /home/apsisdev/ansary/DATASETS/APSIS/Recogniti...   \n",
       "3     /home/apsisdev/ansary/DATASETS/APSIS/Recogniti...   \n",
       "4     /home/apsisdev/ansary/DATASETS/APSIS/Recogniti...   \n",
       "...                                                 ...   \n",
       "1090  /home/apsisdev/ansary/DATASETS/APSIS/Recogniti...   \n",
       "1091  /home/apsisdev/ansary/DATASETS/APSIS/Recogniti...   \n",
       "1092  /home/apsisdev/ansary/DATASETS/APSIS/Recogniti...   \n",
       "1093  /home/apsisdev/ansary/DATASETS/APSIS/Recogniti...   \n",
       "1094  /home/apsisdev/ansary/DATASETS/APSIS/Recogniti...   \n",
       "\n",
       "                                                   mask  \n",
       "0     [1, 1, 1, 1, 1, 0, 0, 0, 0, 0, 0, 0, 0, 0, 0, ...  \n",
       "1     [1, 1, 0, 0, 0, 0, 0, 0, 0, 0, 0, 0, 0, 0, 0, ...  \n",
       "2     [1, 1, 1, 1, 1, 1, 1, 1, 1, 1, 1, 1, 1, 0, 0, ...  \n",
       "3     [1, 1, 1, 1, 1, 0, 0, 0, 0, 0, 0, 0, 0, 0, 0, ...  \n",
       "4     [1, 1, 1, 1, 1, 1, 1, 1, 0, 0, 0, 0, 0, 0, 0, ...  \n",
       "...                                                 ...  \n",
       "1090  [1, 1, 1, 1, 1, 0, 0, 0, 0, 0, 0, 0, 0, 0, 0, ...  \n",
       "1091  [1, 1, 1, 1, 1, 1, 0, 0, 0, 0, 0, 0, 0, 0, 0, ...  \n",
       "1092  [1, 1, 1, 1, 0, 0, 0, 0, 0, 0, 0, 0, 0, 0, 0, ...  \n",
       "1093  [1, 1, 1, 1, 1, 1, 1, 1, 1, 1, 0, 0, 0, 0, 0, ...  \n",
       "1094  [1, 1, 1, 1, 1, 1, 1, 1, 1, 1, 0, 0, 0, 0, 0, ...  \n",
       "\n",
       "[1095 rows x 2 columns]"
      ]
     },
     "execution_count": 7,
     "metadata": {},
     "output_type": "execute_result"
    }
   ],
   "source": [
    "df=processImages(df,img_dim=(64,512),ptype=\"left\",factor=32)\n",
    "df"
   ]
  },
  {
   "cell_type": "code",
   "execution_count": 19,
   "id": "a6ff3bd1",
   "metadata": {},
   "outputs": [],
   "source": [
    "# classification\n",
    "def get_label(img_path):\n",
    "    # bangla,english\n",
    "    dsname=os.path.basename(os.path.dirname(os.path.dirname(img_path)))\n",
    "    if dsname in en_datasets:\n",
    "        return [0,1]\n",
    "    else:\n",
    "        return [1,0]"
   ]
  },
  {
   "cell_type": "code",
   "execution_count": 13,
   "id": "e7caa3ee",
   "metadata": {},
   "outputs": [
    {
     "data": {
      "application/vnd.jupyter.widget-view+json": {
       "model_id": "f8fd0e1fbc684bf08a7cb8457472c9a9",
       "version_major": 2,
       "version_minor": 0
      },
      "text/plain": [
       "  0%|          | 0/42561 [00:00<?, ?it/s]"
      ]
     },
     "metadata": {},
     "output_type": "display_data"
    },
    {
     "data": {
      "application/vnd.jupyter.widget-view+json": {
       "model_id": "32747f58e8854b41a7263a4ad276f84e",
       "version_major": 2,
       "version_minor": 0
      },
      "text/plain": [
       "  0%|          | 0/998757 [00:00<?, ?it/s]"
      ]
     },
     "metadata": {},
     "output_type": "display_data"
    },
    {
     "data": {
      "application/vnd.jupyter.widget-view+json": {
       "model_id": "2045efdd184046009e6583f4c2b0acf7",
       "version_major": 2,
       "version_minor": 0
      },
      "text/plain": [
       "  0%|          | 0/1095 [00:00<?, ?it/s]"
      ]
     },
     "metadata": {},
     "output_type": "display_data"
    },
    {
     "name": "stdout",
     "output_type": "stream",
     "text": [
      "1042413\n"
     ]
    },
    {
     "data": {
      "application/vnd.jupyter.widget-view+json": {
       "model_id": "8d633f67ec6c4ff2a1225799d820126f",
       "version_major": 2,
       "version_minor": 0
      },
      "text/plain": [
       "  0%|          | 0/999900 [00:00<?, ?it/s]"
      ]
     },
     "metadata": {},
     "output_type": "display_data"
    },
    {
     "data": {
      "application/vnd.jupyter.widget-view+json": {
       "model_id": "5c32530bc7b0460889ff478b4af14326",
       "version_major": 2,
       "version_minor": 0
      },
      "text/plain": [
       "  0%|          | 0/100000 [00:00<?, ?it/s]"
      ]
     },
     "metadata": {},
     "output_type": "display_data"
    },
    {
     "data": {
      "application/vnd.jupyter.widget-view+json": {
       "model_id": "53b4e382804d4dd0ab89d6915d7038a8",
       "version_major": 2,
       "version_minor": 0
      },
      "text/plain": [
       "  0%|          | 0/59704 [00:00<?, ?it/s]"
      ]
     },
     "metadata": {},
     "output_type": "display_data"
    },
    {
     "data": {
      "application/vnd.jupyter.widget-view+json": {
       "model_id": "ac4c7e5d0e4e4b2b9c4c84942f155721",
       "version_major": 2,
       "version_minor": 0
      },
      "text/plain": [
       "  0%|          | 0/21221 [00:00<?, ?it/s]"
      ]
     },
     "metadata": {},
     "output_type": "display_data"
    },
    {
     "data": {
      "application/vnd.jupyter.widget-view+json": {
       "model_id": "c8c2f819b3d64779bdb25e5e6b9aa253",
       "version_major": 2,
       "version_minor": 0
      },
      "text/plain": [
       "  0%|          | 0/107214 [00:00<?, ?it/s]"
      ]
     },
     "metadata": {},
     "output_type": "display_data"
    },
    {
     "data": {
      "application/vnd.jupyter.widget-view+json": {
       "model_id": "04f377457ec947a6b1918b137fd3ba77",
       "version_major": 2,
       "version_minor": 0
      },
      "text/plain": [
       "  0%|          | 0/113075 [00:00<?, ?it/s]"
      ]
     },
     "metadata": {},
     "output_type": "display_data"
    },
    {
     "name": "stdout",
     "output_type": "stream",
     "text": [
      "1401114\n"
     ]
    }
   ],
   "source": [
    "eng_imgs=[]\n",
    "ban_imgs=[]\n",
    "for dataset in en_datasets:\n",
    "    eng_imgs+=[img_path for img_path in tqdm(glob(os.path.join(ds_dir,dataset,\"images\",\"*.*\")))]\n",
    "print(len(eng_imgs))\n",
    "for dataset in bn_datasets:\n",
    "    ban_imgs+=[img_path for img_path in tqdm(glob(os.path.join(ds_dir,dataset,\"images\",\"*.*\")))]\n",
    "print(len(ban_imgs))\n"
   ]
  },
  {
   "cell_type": "code",
   "execution_count": 15,
   "id": "f1904599",
   "metadata": {},
   "outputs": [
    {
     "data": {
      "text/plain": [
       "833930"
      ]
     },
     "execution_count": 15,
     "metadata": {},
     "output_type": "execute_result"
    }
   ],
   "source": [
    "split=0.8\n",
    "data_len=int(min(len(eng_imgs),len(ban_imgs))*split)\n",
    "data_len"
   ]
  },
  {
   "cell_type": "code",
   "execution_count": 16,
   "id": "45d5ab65",
   "metadata": {},
   "outputs": [],
   "source": [
    "import random\n",
    "random.shuffle(eng_imgs)\n",
    "random.shuffle(ban_imgs)\n",
    "train_imgs=ban_imgs[:data_len]+eng_imgs[:data_len]\n",
    "test_imgs =ban_imgs[data_len:]+eng_imgs[data_len:]"
   ]
  },
  {
   "cell_type": "code",
   "execution_count": 17,
   "id": "9df194db",
   "metadata": {},
   "outputs": [
    {
     "name": "stdout",
     "output_type": "stream",
     "text": [
      "775667\n",
      "1667860\n"
     ]
    }
   ],
   "source": [
    "print(len(test_imgs))\n",
    "print(len(train_imgs))"
   ]
  },
  {
   "cell_type": "code",
   "execution_count": 22,
   "id": "7e099cc2",
   "metadata": {},
   "outputs": [],
   "source": [
    "data_size=10240\n",
    "import tensorflow as tf\n",
    "from coreLib.utils import create_dir\n",
    "# feature fuctions\n",
    "def _bytes_feature(value):\n",
    "    return tf.train.Feature(bytes_list=tf.train.BytesList(value=[value]))\n",
    "def _int64_list_feature(value):\n",
    "    return tf.train.Feature(int64_list=tf.train.Int64List(value=value))\n",
    "\n",
    "\n",
    "def toTfrecord(paths,rnum,rec_path):\n",
    "    '''\n",
    "        args:\n",
    "            df      :   the dataframe that contains the information to store\n",
    "            rnum    :   record number\n",
    "            rec_path:   save_path\n",
    "            mask_dim:   the dimension of the mask\n",
    "    '''\n",
    "    tfrecord_name=f'{rnum}.tfrecord'\n",
    "    tfrecord_path=os.path.join(rec_path,tfrecord_name) \n",
    "    with tf.io.TFRecordWriter(tfrecord_path) as writer:    \n",
    "        \n",
    "        for img_path in paths:\n",
    "            # img\n",
    "            with(open(img_path,'rb')) as fid:\n",
    "                image_png_bytes=fid.read()\n",
    "            # feature desc\n",
    "            data ={ 'image':_bytes_feature(image_png_bytes)}\n",
    "\n",
    "            data[\"label\"]=_int64_list_feature(get_label(img_path)) \n",
    "\n",
    "            \n",
    "            features=tf.train.Features(feature=data)\n",
    "            example= tf.train.Example(features=features)\n",
    "            serialized=example.SerializeToString()\n",
    "            writer.write(serialized)  \n",
    "\n",
    "def createRecords(data,save_path,tf_size=10240):\n",
    "    for idx in tqdm(range(0,len(data),tf_size)):\n",
    "        paths        =   data[idx:idx+tf_size]  \n",
    "        rnum      =   idx//tf_size\n",
    "        toTfrecord(paths,rnum,save_path)"
   ]
  },
  {
   "cell_type": "code",
   "execution_count": null,
   "id": "4747c6b2",
   "metadata": {},
   "outputs": [
    {
     "data": {
      "application/vnd.jupyter.widget-view+json": {
       "model_id": "8430e635fa1a4d7bb247bd5668df2513",
       "version_major": 2,
       "version_minor": 0
      },
      "text/plain": [
       "  0%|          | 0/163 [00:00<?, ?it/s]"
      ]
     },
     "metadata": {},
     "output_type": "display_data"
    },
    {
     "data": {
      "application/vnd.jupyter.widget-view+json": {
       "model_id": "43994c18003b4636ae913e5b1e9d6b23",
       "version_major": 2,
       "version_minor": 0
      },
      "text/plain": [
       "  0%|          | 0/76 [00:00<?, ?it/s]"
      ]
     },
     "metadata": {},
     "output_type": "display_data"
    }
   ],
   "source": [
    "random.shuffle(train_imgs)\n",
    "random.shuffle(test_imgs)\n",
    "rec_dir=create_dir(ds_dir,\"classification\")\n",
    "train_save=create_dir(rec_dir,\"train\")\n",
    "test_save=create_dir(rec_dir,\"test\")\n",
    "createRecords(train_imgs,train_save)\n",
    "createRecords(test_imgs,test_save)\n"
   ]
  },
  {
   "cell_type": "code",
   "execution_count": null,
   "id": "f314ffb9",
   "metadata": {},
   "outputs": [],
   "source": []
  }
 ],
 "metadata": {
  "kernelspec": {
   "display_name": "bangla",
   "language": "python",
   "name": "bangla"
  },
  "language_info": {
   "codemirror_mode": {
    "name": "ipython",
    "version": 3
   },
   "file_extension": ".py",
   "mimetype": "text/x-python",
   "name": "python",
   "nbconvert_exporter": "python",
   "pygments_lexer": "ipython3",
   "version": "3.8.5"
  }
 },
 "nbformat": 4,
 "nbformat_minor": 5
}
