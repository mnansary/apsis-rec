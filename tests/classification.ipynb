{
 "cells": [
  {
   "cell_type": "code",
   "execution_count": 1,
   "id": "b4af7fc5",
   "metadata": {},
   "outputs": [],
   "source": [
    "ds_dir=\"/home/apsisdev/ansary/DATASETS/APSIS/Recognition/datasets/\"\n",
    "bn_datasets=[\"bangla_printed\",\"bangla_handwritten\",\"bs\",\"bw\",\"bh\",\"iit.bn\"]\n",
    "en_datasets=[\"en_hw\",\"english_printed\",\"icdar13\"]\n",
    "# imports\n",
    "import sys\n",
    "sys.path.append('../')\n",
    "import cv2\n",
    "import os \n",
    "from glob import glob\n",
    "from tqdm.auto import tqdm\n",
    "from coreLib.processing import correctPadding\n",
    "eng_imgs=[]\n",
    "ban_imgs=[]"
   ]
  },
  {
   "cell_type": "code",
   "execution_count": 2,
   "id": "a6ff3bd1",
   "metadata": {},
   "outputs": [],
   "source": [
    "# classification\n",
    "def get_label(img_path):\n",
    "    # bangla,english\n",
    "    dsname=os.path.basename(os.path.dirname(os.path.dirname(img_path)))\n",
    "    if dsname in en_datasets:\n",
    "        return [0,1]\n",
    "    else:\n",
    "        return [1,0]"
   ]
  },
  {
   "cell_type": "code",
   "execution_count": 3,
   "id": "e7caa3ee",
   "metadata": {},
   "outputs": [
    {
     "data": {
      "application/vnd.jupyter.widget-view+json": {
       "model_id": "8b0be6ac753247e5b77b64bc56f1d519",
       "version_major": 2,
       "version_minor": 0
      },
      "text/plain": [
       "  0%|          | 0/42561 [00:00<?, ?it/s]"
      ]
     },
     "metadata": {},
     "output_type": "display_data"
    },
    {
     "data": {
      "application/vnd.jupyter.widget-view+json": {
       "model_id": "7dc3bd0fb7484a0aa36ab52743ab6241",
       "version_major": 2,
       "version_minor": 0
      },
      "text/plain": [
       "  0%|          | 0/42561 [00:00<?, ?it/s]"
      ]
     },
     "metadata": {},
     "output_type": "display_data"
    },
    {
     "data": {
      "application/vnd.jupyter.widget-view+json": {
       "model_id": "631724481a294b59a0661c6334ef3408",
       "version_major": 2,
       "version_minor": 0
      },
      "text/plain": [
       "  0%|          | 0/998757 [00:00<?, ?it/s]"
      ]
     },
     "metadata": {},
     "output_type": "display_data"
    },
    {
     "data": {
      "application/vnd.jupyter.widget-view+json": {
       "model_id": "938a256fe65f49798c5d5a0f81ff6631",
       "version_major": 2,
       "version_minor": 0
      },
      "text/plain": [
       "  0%|          | 0/998757 [00:00<?, ?it/s]"
      ]
     },
     "metadata": {},
     "output_type": "display_data"
    },
    {
     "data": {
      "application/vnd.jupyter.widget-view+json": {
       "model_id": "d765dd3f82f44e2ea6cd034111591c06",
       "version_major": 2,
       "version_minor": 0
      },
      "text/plain": [
       "  0%|          | 0/1095 [00:00<?, ?it/s]"
      ]
     },
     "metadata": {},
     "output_type": "display_data"
    },
    {
     "data": {
      "application/vnd.jupyter.widget-view+json": {
       "model_id": "fa229fb385c84f079c2a01da17ad6734",
       "version_major": 2,
       "version_minor": 0
      },
      "text/plain": [
       "  0%|          | 0/1095 [00:00<?, ?it/s]"
      ]
     },
     "metadata": {},
     "output_type": "display_data"
    },
    {
     "name": "stdout",
     "output_type": "stream",
     "text": [
      "1042413\n"
     ]
    }
   ],
   "source": [
    "\n",
    "\n",
    "for dataset in en_datasets:\n",
    "    imgs=[img_path for img_path in tqdm(glob(os.path.join(ds_dir,dataset,\"images\",\"*.*\")))]\n",
    "    for img_path in tqdm(imgs):\n",
    "        try:\n",
    "            img=cv2.imread(img_path)\n",
    "            h,w,d=img.shape\n",
    "            if h!=64 or w!=512:\n",
    "                img,_=correctPadding(img,dim=(64,512),ptype=\"left\",pvalue=255)\n",
    "                cv2.imwrite(img_path,img)\n",
    "        except Exception as e:\n",
    "            imgs.remove(img_path)\n",
    "    eng_imgs+=imgs\n",
    "    \n",
    "print(len(eng_imgs))\n"
   ]
  },
  {
   "cell_type": "code",
   "execution_count": 4,
   "id": "263e69ce",
   "metadata": {},
   "outputs": [
    {
     "data": {
      "application/vnd.jupyter.widget-view+json": {
       "model_id": "ff4c0387cace4a9eb0aa5b6ee725c09a",
       "version_major": 2,
       "version_minor": 0
      },
      "text/plain": [
       "  0%|          | 0/999900 [00:00<?, ?it/s]"
      ]
     },
     "metadata": {},
     "output_type": "display_data"
    },
    {
     "data": {
      "application/vnd.jupyter.widget-view+json": {
       "model_id": "1a1e4bd4e1a449eabc36f2a1fda09dc8",
       "version_major": 2,
       "version_minor": 0
      },
      "text/plain": [
       "  0%|          | 0/999900 [00:00<?, ?it/s]"
      ]
     },
     "metadata": {},
     "output_type": "display_data"
    },
    {
     "data": {
      "application/vnd.jupyter.widget-view+json": {
       "model_id": "474f96628f1c4d5d9821a506cedd6d3e",
       "version_major": 2,
       "version_minor": 0
      },
      "text/plain": [
       "  0%|          | 0/100000 [00:00<?, ?it/s]"
      ]
     },
     "metadata": {},
     "output_type": "display_data"
    },
    {
     "data": {
      "application/vnd.jupyter.widget-view+json": {
       "model_id": "fcf0e2a84a034205a84e26cd4d51ed54",
       "version_major": 2,
       "version_minor": 0
      },
      "text/plain": [
       "  0%|          | 0/100000 [00:00<?, ?it/s]"
      ]
     },
     "metadata": {},
     "output_type": "display_data"
    },
    {
     "data": {
      "application/vnd.jupyter.widget-view+json": {
       "model_id": "1c5aa21043c74d16b0aacf52fcc16241",
       "version_major": 2,
       "version_minor": 0
      },
      "text/plain": [
       "  0%|          | 0/59704 [00:00<?, ?it/s]"
      ]
     },
     "metadata": {},
     "output_type": "display_data"
    },
    {
     "data": {
      "application/vnd.jupyter.widget-view+json": {
       "model_id": "07068e67180c45f7b7a79ad736a73fa7",
       "version_major": 2,
       "version_minor": 0
      },
      "text/plain": [
       "  0%|          | 0/59704 [00:00<?, ?it/s]"
      ]
     },
     "metadata": {},
     "output_type": "display_data"
    },
    {
     "data": {
      "application/vnd.jupyter.widget-view+json": {
       "model_id": "df01386ca4994b00839bde7cd0e601b2",
       "version_major": 2,
       "version_minor": 0
      },
      "text/plain": [
       "  0%|          | 0/21221 [00:00<?, ?it/s]"
      ]
     },
     "metadata": {},
     "output_type": "display_data"
    },
    {
     "data": {
      "application/vnd.jupyter.widget-view+json": {
       "model_id": "46ca9440d92c48e583173193dce94eea",
       "version_major": 2,
       "version_minor": 0
      },
      "text/plain": [
       "  0%|          | 0/21221 [00:00<?, ?it/s]"
      ]
     },
     "metadata": {},
     "output_type": "display_data"
    },
    {
     "data": {
      "application/vnd.jupyter.widget-view+json": {
       "model_id": "25cafdac22ef42c9a085ca2214db909b",
       "version_major": 2,
       "version_minor": 0
      },
      "text/plain": [
       "  0%|          | 0/107214 [00:00<?, ?it/s]"
      ]
     },
     "metadata": {},
     "output_type": "display_data"
    },
    {
     "data": {
      "application/vnd.jupyter.widget-view+json": {
       "model_id": "d63db3d0e66b450983f0221245415277",
       "version_major": 2,
       "version_minor": 0
      },
      "text/plain": [
       "  0%|          | 0/107214 [00:00<?, ?it/s]"
      ]
     },
     "metadata": {},
     "output_type": "display_data"
    },
    {
     "data": {
      "application/vnd.jupyter.widget-view+json": {
       "model_id": "488858d9614a417cb5facc1acf9d22ab",
       "version_major": 2,
       "version_minor": 0
      },
      "text/plain": [
       "  0%|          | 0/113075 [00:00<?, ?it/s]"
      ]
     },
     "metadata": {},
     "output_type": "display_data"
    },
    {
     "data": {
      "application/vnd.jupyter.widget-view+json": {
       "model_id": "a8d79a0935d342dcae68f83457b0c7bc",
       "version_major": 2,
       "version_minor": 0
      },
      "text/plain": [
       "  0%|          | 0/113075 [00:00<?, ?it/s]"
      ]
     },
     "metadata": {},
     "output_type": "display_data"
    },
    {
     "name": "stdout",
     "output_type": "stream",
     "text": [
      "1401114\n"
     ]
    }
   ],
   "source": [
    "for dataset in bn_datasets:\n",
    "    imgs=[img_path for img_path in tqdm(glob(os.path.join(ds_dir,dataset,\"images\",\"*.*\")))]\n",
    "    for img_path in tqdm(imgs):\n",
    "        try:\n",
    "            img=cv2.imread(img_path)\n",
    "            h,w,d=img.shape\n",
    "            if h!=64 or w!=512:\n",
    "                img,_=correctPadding(img,dim=(64,512),ptype=\"left\",pvalue=255)\n",
    "                cv2.imwrite(img_path,img)\n",
    "        except Exception as e:\n",
    "            imgs.remove(img_path)\n",
    "    ban_imgs+=imgs\n",
    "print(len(ban_imgs))"
   ]
  },
  {
   "cell_type": "code",
   "execution_count": 5,
   "id": "f1904599",
   "metadata": {},
   "outputs": [
    {
     "data": {
      "text/plain": [
       "833930"
      ]
     },
     "execution_count": 5,
     "metadata": {},
     "output_type": "execute_result"
    }
   ],
   "source": [
    "split=0.8\n",
    "data_len=int(min(len(eng_imgs),len(ban_imgs))*split)\n",
    "data_len"
   ]
  },
  {
   "cell_type": "code",
   "execution_count": 6,
   "id": "45d5ab65",
   "metadata": {},
   "outputs": [],
   "source": [
    "import random\n",
    "random.shuffle(eng_imgs)\n",
    "random.shuffle(ban_imgs)\n",
    "train_imgs=ban_imgs[:data_len]+eng_imgs[:data_len]\n",
    "test_imgs =ban_imgs[data_len:]+eng_imgs[data_len:]"
   ]
  },
  {
   "cell_type": "code",
   "execution_count": 7,
   "id": "9df194db",
   "metadata": {},
   "outputs": [
    {
     "name": "stdout",
     "output_type": "stream",
     "text": [
      "775667\n",
      "1667860\n"
     ]
    }
   ],
   "source": [
    "print(len(test_imgs))\n",
    "print(len(train_imgs))"
   ]
  },
  {
   "cell_type": "code",
   "execution_count": 8,
   "id": "7e099cc2",
   "metadata": {},
   "outputs": [],
   "source": [
    "data_size=10240\n",
    "import tensorflow as tf\n",
    "from coreLib.utils import create_dir\n",
    "# feature fuctions\n",
    "def _bytes_feature(value):\n",
    "    return tf.train.Feature(bytes_list=tf.train.BytesList(value=[value]))\n",
    "def _int64_list_feature(value):\n",
    "    return tf.train.Feature(int64_list=tf.train.Int64List(value=value))\n",
    "\n",
    "\n",
    "def toTfrecord(paths,rnum,rec_path):\n",
    "    '''\n",
    "        args:\n",
    "            df      :   the dataframe that contains the information to store\n",
    "            rnum    :   record number\n",
    "            rec_path:   save_path\n",
    "            mask_dim:   the dimension of the mask\n",
    "    '''\n",
    "    tfrecord_name=f'{rnum}.tfrecord'\n",
    "    tfrecord_path=os.path.join(rec_path,tfrecord_name) \n",
    "    with tf.io.TFRecordWriter(tfrecord_path) as writer:    \n",
    "        \n",
    "        for img_path in paths:\n",
    "            # img\n",
    "            with(open(img_path,'rb')) as fid:\n",
    "                image_png_bytes=fid.read()\n",
    "            # feature desc\n",
    "            data ={ 'image':_bytes_feature(image_png_bytes)}\n",
    "\n",
    "            data[\"label\"]=_int64_list_feature(get_label(img_path)) \n",
    "\n",
    "            \n",
    "            features=tf.train.Features(feature=data)\n",
    "            example= tf.train.Example(features=features)\n",
    "            serialized=example.SerializeToString()\n",
    "            writer.write(serialized)  \n",
    "\n",
    "def createRecords(data,save_path,tf_size=10240):\n",
    "    for idx in tqdm(range(0,len(data),tf_size)):\n",
    "        paths        =   data[idx:idx+tf_size]  \n",
    "        rnum      =   idx//tf_size\n",
    "        toTfrecord(paths,rnum,save_path)"
   ]
  },
  {
   "cell_type": "code",
   "execution_count": 9,
   "id": "4747c6b2",
   "metadata": {},
   "outputs": [
    {
     "data": {
      "application/vnd.jupyter.widget-view+json": {
       "model_id": "45c6eca11cec4bb99e3d0021a3aa78f0",
       "version_major": 2,
       "version_minor": 0
      },
      "text/plain": [
       "  0%|          | 0/163 [00:00<?, ?it/s]"
      ]
     },
     "metadata": {},
     "output_type": "display_data"
    },
    {
     "data": {
      "application/vnd.jupyter.widget-view+json": {
       "model_id": "32445c315d294b4383f27c8592b35b5b",
       "version_major": 2,
       "version_minor": 0
      },
      "text/plain": [
       "  0%|          | 0/76 [00:00<?, ?it/s]"
      ]
     },
     "metadata": {},
     "output_type": "display_data"
    }
   ],
   "source": [
    "random.shuffle(train_imgs)\n",
    "random.shuffle(test_imgs)\n",
    "rec_dir=create_dir(ds_dir,\"classification\")\n",
    "train_save=create_dir(rec_dir,\"train\")\n",
    "test_save=create_dir(rec_dir,\"test\")\n",
    "createRecords(train_imgs,train_save)\n",
    "createRecords(test_imgs,test_save)\n"
   ]
  },
  {
   "cell_type": "code",
   "execution_count": null,
   "id": "f314ffb9",
   "metadata": {},
   "outputs": [],
   "source": []
  }
 ],
 "metadata": {
  "kernelspec": {
   "display_name": "bangla",
   "language": "python",
   "name": "bangla"
  },
  "language_info": {
   "codemirror_mode": {
    "name": "ipython",
    "version": 3
   },
   "file_extension": ".py",
   "mimetype": "text/x-python",
   "name": "python",
   "nbconvert_exporter": "python",
   "pygments_lexer": "ipython3",
   "version": "3.8.5"
  }
 },
 "nbformat": 4,
 "nbformat_minor": 5
}
